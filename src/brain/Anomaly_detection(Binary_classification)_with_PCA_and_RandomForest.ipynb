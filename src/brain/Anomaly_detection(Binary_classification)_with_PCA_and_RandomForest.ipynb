{
  "nbformat": 4,
  "nbformat_minor": 0,
  "metadata": {
    "colab": {
      "name": "Anomaly detection(Binary classification) with PCA and RandomForest.ipynb",
      "provenance": [],
      "collapsed_sections": []
    },
    "kernelspec": {
      "name": "python3",
      "display_name": "Python 3"
    },
    "language_info": {
      "name": "python"
    }
  },
  "cells": [
    {
      "cell_type": "code",
      "metadata": {
        "id": "3s0pIc6rfpyk",
        "colab": {
          "base_uri": "https://localhost:8080/",
          "height": 35
        },
        "outputId": "d0cd934d-a3fe-4f81-9636-be25d0f17ec9"
      },
      "source": [
        "'''\n",
        "Project: NGuard\n",
        "Dataset: http://205.174.165.80/CICDataset/CIC-IDS-2017/Dataset/MachineLearningCSV.zip\n",
        "'''\n"
      ],
      "execution_count": null,
      "outputs": [
        {
          "output_type": "execute_result",
          "data": {
            "application/vnd.google.colaboratory.intrinsic+json": {
              "type": "string"
            },
            "text/plain": [
              "'\\nProject: NGuard\\nDataset: http://205.174.165.80/CICDataset/CIC-IDS-2017/Dataset/MachineLearningCSV.zip\\n'"
            ]
          },
          "metadata": {},
          "execution_count": 25
        }
      ]
    },
    {
      "cell_type": "markdown",
      "source": [
        "**Extracting the parquet file which consist of network flows of Monday,Tuesday,Wednesday,Thursday and Friday**"
      ],
      "metadata": {
        "id": "2xYgJk8ktMDT"
      }
    },
    {
      "cell_type": "code",
      "source": [
        "from google.colab import drive\n",
        "drive.mount('/content/drive')\n",
        "\n",
        "\n",
        "import pandas as pd\n",
        "import numpy as np\n",
        "import glob\n",
        "import pathlib\n",
        "import os\n",
        "from joblib import dump,load\n",
        "\n",
        "def extract_dataset():\n",
        "  '''\n",
        "  Look for the merged parquet file in the cwd,\n",
        "  if not found unzip the dataset.zip and return the\n",
        "  cwd of the data.\n",
        "  '''\n",
        "  file_name = pathlib.Path(\"merged.parquet\")\n",
        "  if not file_name.exists ():\n",
        "    import zipfile\n",
        "    with zipfile.ZipFile(os.getcwd()+\"/drive/MyDrive/dataset.zip\",\"r\") as zip_ref:\n",
        "      zip_ref.extractall()\n",
        "\n",
        "  folder_path = os.getcwd() \n",
        "  return folder_path  \n",
        "\n",
        "\n",
        "def read_as_dataframe(master_file):\n",
        "  '''\n",
        "  Look for the merged parquet file in the cwd,\n",
        "  if not found merge the dataframes and return a single\n",
        "  merged dataframe.\n",
        "  '''\n",
        "  file_name = pathlib.Path(\"merged.parquet\")\n",
        "  if not file_name.exists ():\n",
        "    df = pd.concat(master_file,ignore_index=True)\n",
        "    df.to_parquet('merged.parquet',index=False)\n",
        "  else:  \n",
        "    df = pd.read_parquet(file_name,engine='pyarrow')\n",
        "  return df\n"
      ],
      "metadata": {
        "id": "qPpK8F4gXAhd",
        "colab": {
          "base_uri": "https://localhost:8080/"
        },
        "outputId": "24198928-c410-41a3-b36e-07e3975474ab"
      },
      "execution_count": null,
      "outputs": [
        {
          "output_type": "stream",
          "name": "stdout",
          "text": [
            "Drive already mounted at /content/drive; to attempt to forcibly remount, call drive.mount(\"/content/drive\", force_remount=True).\n"
          ]
        }
      ]
    },
    {
      "cell_type": "markdown",
      "source": [
        "**Extract the data from zip file**"
      ],
      "metadata": {
        "id": "MgFK-ldVuIwo"
      }
    },
    {
      "cell_type": "code",
      "source": [
        "# returns the location of dataset\n",
        "dirpath = extract_dataset()\n"
      ],
      "metadata": {
        "id": "n9SfLnSlP47n"
      },
      "execution_count": null,
      "outputs": []
    },
    {
      "cell_type": "markdown",
      "source": [
        "**Read parquet file as dataframe**"
      ],
      "metadata": {
        "id": "kAhpkL3DuZDp"
      }
    },
    {
      "cell_type": "code",
      "source": [
        "mon = pd.read_parquet(f'{dirpath}/monday.parquet',engine=\"pyarrow\")\n",
        "tues = pd.read_parquet(f'{dirpath}/tuesday.parquet',engine=\"pyarrow\")\n",
        "wed =  pd.read_parquet(f'{dirpath}/wednesday.parquet',engine=\"pyarrow\")\n",
        "thurs =  pd.concat([\n",
        "                    pd.read_parquet(f'{dirpath}/thursday1.parquet',engine=\"pyarrow\"),\n",
        "                    pd.read_parquet(f'{dirpath}/thursday2.parquet',engine=\"pyarrow\"),\n",
        "                    ],ignore_index=True)\n",
        "fri =  pd.concat([pd.read_parquet(f'{dirpath}/friday1.parquet',engine=\"pyarrow\"),\n",
        "                    pd.read_parquet(f'{dirpath}/friday2.parquet',engine=\"pyarrow\"),\n",
        "                    pd.read_parquet(f'{dirpath}/friday3.parquet',engine=\"pyarrow\"),\n",
        "                    ],ignore_index=True)\n",
        "\n"
      ],
      "metadata": {
        "id": "tyes7J8UFjmF"
      },
      "execution_count": null,
      "outputs": []
    },
    {
      "cell_type": "markdown",
      "source": [
        "**Display the total numbers of data in each dataframe**"
      ],
      "metadata": {
        "id": "qUAenywmupPL"
      }
    },
    {
      "cell_type": "code",
      "source": [
        "print('monday', mon[' Label'].unique(),mon[' Label'].count())\n",
        "print('tuesday', tues[' Label'].unique(),tues[' Label'].count())\n",
        "print('wednesday', wed[' Label'].unique(),wed[' Label'].count())\n",
        "print('thursday', thurs[' Label'].unique(),thurs[' Label'].count())\n",
        "print('friday', fri[' Label'].unique(),fri[' Label'].count())"
      ],
      "metadata": {
        "colab": {
          "base_uri": "https://localhost:8080/"
        },
        "id": "gPPo71thuzSw",
        "outputId": "8ba516b1-511a-4e3c-f9cc-9e5822812d82"
      },
      "execution_count": null,
      "outputs": [
        {
          "output_type": "stream",
          "name": "stdout",
          "text": [
            "monday ['BENIGN'] 529918\n",
            "tuesday ['BENIGN' 'FTP-Patator' 'SSH-Patator'] 445909\n",
            "wednesday ['BENIGN' 'DoS slowloris' 'DoS Slowhttptest' 'DoS Hulk' 'DoS GoldenEye'\n",
            " 'Heartbleed'] 692703\n",
            "thursday ['BENIGN' 'Web Attack � Brute Force' 'Web Attack � XSS'\n",
            " 'Web Attack � Sql Injection' 'Infiltration'] 458968\n",
            "friday ['BENIGN' 'Bot' 'PortScan' 'DDoS'] 703245\n"
          ]
        }
      ]
    },
    {
      "cell_type": "markdown",
      "source": [
        "We can see that monday has only benign data, and other days have mix of attack and benign labels. We can exclude monday data and form a combined dataset of other days."
      ],
      "metadata": {
        "id": "OaPUNkq6u3I0"
      }
    },
    {
      "cell_type": "code",
      "source": [
        "merged  = read_as_dataframe([tues.drop_duplicates(),wed.drop_duplicates(),thurs.drop_duplicates(),fri.drop_duplicates()])\n",
        "\n",
        "print(merged[' Label'].value_counts())\n"
      ],
      "metadata": {
        "id": "rhfmZCsuMEvO",
        "colab": {
          "base_uri": "https://localhost:8080/"
        },
        "outputId": "4b0136e0-d1a4-4052-8ad3-f7284199569f"
      },
      "execution_count": null,
      "outputs": [
        {
          "output_type": "stream",
          "name": "stdout",
          "text": [
            "BENIGN                        1635861\n",
            "DoS Hulk                       172849\n",
            "DDoS                           128016\n",
            "PortScan                        90819\n",
            "DoS GoldenEye                   10286\n",
            "FTP-Patator                      5933\n",
            "DoS slowloris                    5385\n",
            "DoS Slowhttptest                 5228\n",
            "SSH-Patator                      3219\n",
            "Bot                              1953\n",
            "Web Attack � Brute Force         1470\n",
            "Web Attack � XSS                  652\n",
            "Infiltration                       36\n",
            "Web Attack � Sql Injection         21\n",
            "Heartbleed                         11\n",
            "Name:  Label, dtype: int64\n"
          ]
        }
      ]
    },
    {
      "cell_type": "markdown",
      "source": [
        "From above we can see, in the total dataset, infiltration, web attack sql injection and heartbleed has comparatively less amount of data\n",
        "\n",
        "\n",
        "\n",
        "We will ignore them from training data but will use for testing purpose since they would be a type of unseen data for the model"
      ],
      "metadata": {
        "id": "RVTUBqeBwKwq"
      }
    },
    {
      "cell_type": "code",
      "source": [
        "infil = merged.loc[merged[' Label'] == 'Infiltration']\n",
        "sqli = merged.loc[merged[' Label']== 'Web Attack � Sql Injection']\n",
        "hb = merged.loc[merged[' Label']== 'Heartbleed']\n",
        "merged.drop(infil.index,inplace=True)\n",
        "merged.drop(sqli.index,inplace=True)\n",
        "merged.drop(hb.index,inplace=True)\n",
        "new_test = pd.concat([infil,sqli,hb],ignore_index=True)\n",
        "del infil\n",
        "del sqli\n",
        "del hb"
      ],
      "metadata": {
        "id": "P9ZmVW31vnC3"
      },
      "execution_count": null,
      "outputs": []
    },
    {
      "cell_type": "markdown",
      "source": [
        "**Statistics of merged dataframe**"
      ],
      "metadata": {
        "id": "5ZbE0tJUxF3x"
      }
    },
    {
      "cell_type": "code",
      "source": [
        "print(merged.columns)\n",
        "print(merged.shape)"
      ],
      "metadata": {
        "colab": {
          "base_uri": "https://localhost:8080/"
        },
        "id": "kbUn6ijjveAf",
        "outputId": "ea55acd0-f61c-47b8-c700-37fae46cdf65"
      },
      "execution_count": null,
      "outputs": [
        {
          "output_type": "stream",
          "name": "stdout",
          "text": [
            "Index([' Destination Port', ' Flow Duration', ' Total Fwd Packets',\n",
            "       ' Total Backward Packets', 'Total Length of Fwd Packets',\n",
            "       ' Total Length of Bwd Packets', ' Fwd Packet Length Max',\n",
            "       ' Fwd Packet Length Min', ' Fwd Packet Length Mean',\n",
            "       ' Fwd Packet Length Std', 'Bwd Packet Length Max',\n",
            "       ' Bwd Packet Length Min', ' Bwd Packet Length Mean',\n",
            "       ' Bwd Packet Length Std', 'Flow Bytes/s', ' Flow Packets/s',\n",
            "       ' Flow IAT Mean', ' Flow IAT Std', ' Flow IAT Max', ' Flow IAT Min',\n",
            "       'Fwd IAT Total', ' Fwd IAT Mean', ' Fwd IAT Std', ' Fwd IAT Max',\n",
            "       ' Fwd IAT Min', 'Bwd IAT Total', ' Bwd IAT Mean', ' Bwd IAT Std',\n",
            "       ' Bwd IAT Max', ' Bwd IAT Min', 'Fwd PSH Flags', ' Bwd PSH Flags',\n",
            "       ' Fwd URG Flags', ' Bwd URG Flags', ' Fwd Header Length',\n",
            "       ' Bwd Header Length', 'Fwd Packets/s', ' Bwd Packets/s',\n",
            "       ' Min Packet Length', ' Max Packet Length', ' Packet Length Mean',\n",
            "       ' Packet Length Std', ' Packet Length Variance', 'FIN Flag Count',\n",
            "       ' SYN Flag Count', ' RST Flag Count', ' PSH Flag Count',\n",
            "       ' ACK Flag Count', ' URG Flag Count', ' CWE Flag Count',\n",
            "       ' ECE Flag Count', ' Down/Up Ratio', ' Average Packet Size',\n",
            "       ' Avg Fwd Segment Size', ' Avg Bwd Segment Size',\n",
            "       ' Fwd Header Length.1', 'Fwd Avg Bytes/Bulk', ' Fwd Avg Packets/Bulk',\n",
            "       ' Fwd Avg Bulk Rate', ' Bwd Avg Bytes/Bulk', ' Bwd Avg Packets/Bulk',\n",
            "       'Bwd Avg Bulk Rate', 'Subflow Fwd Packets', ' Subflow Fwd Bytes',\n",
            "       ' Subflow Bwd Packets', ' Subflow Bwd Bytes', 'Init_Win_bytes_forward',\n",
            "       ' Init_Win_bytes_backward', ' act_data_pkt_fwd',\n",
            "       ' min_seg_size_forward', 'Active Mean', ' Active Std', ' Active Max',\n",
            "       ' Active Min', 'Idle Mean', ' Idle Std', ' Idle Max', ' Idle Min',\n",
            "       ' Label'],\n",
            "      dtype='object')\n",
            "(2061671, 79)\n"
          ]
        }
      ]
    },
    {
      "cell_type": "markdown",
      "source": [
        "##### The anomaly detection problem can be achieved as either anomaly based approach or even as supervised binary classification approach\n",
        "\n",
        "\n",
        "\n",
        "---\n",
        "\n",
        "We will proceed with the later one, converting all attack class lables as single class 'anomaly'.\n",
        "\n",
        "Using such method we will be left with 2 classes: Binary and Anomaly\n"
      ],
      "metadata": {
        "id": "Sx_jbMnMxUV1"
      }
    },
    {
      "cell_type": "code",
      "source": [
        "labels = merged[' Label'].copy()\n",
        "print(labels.unique())\n",
        "labels[labels != 'BENIGN']='ANOMALOUS'\n",
        "print(labels.unique())\n",
        "\n",
        "val = labels.value_counts()\n",
        "print('benign:',(val['BENIGN']/(val['BENIGN']+val['ANOMALOUS']))*100 )\n",
        "print('anomalous:',(val['ANOMALOUS']/(val['BENIGN']+val['ANOMALOUS'])*100 ))"
      ],
      "metadata": {
        "colab": {
          "base_uri": "https://localhost:8080/"
        },
        "id": "Dd88omHbMQDO",
        "outputId": "769666d9-edeb-471b-c1ab-054ac7d78e97"
      },
      "execution_count": null,
      "outputs": [
        {
          "output_type": "stream",
          "name": "stdout",
          "text": [
            "['BENIGN' 'FTP-Patator' 'SSH-Patator' 'DoS slowloris' 'DoS Slowhttptest'\n",
            " 'DoS Hulk' 'DoS GoldenEye' 'Web Attack � Brute Force' 'Web Attack � XSS'\n",
            " 'Bot' 'PortScan' 'DDoS']\n",
            "['BENIGN' 'ANOMALOUS']\n",
            "benign: 79.34636515719531\n",
            "anomalous: 20.653634842804696\n"
          ]
        }
      ]
    },
    {
      "cell_type": "markdown",
      "source": [
        "From above we see the dataset is pretty unbalanced for supervised learning.\n",
        "Such imbalance can cause overfitting to a perticular class especially benign."
      ],
      "metadata": {
        "id": "Pvyl29kByTUo"
      }
    },
    {
      "cell_type": "markdown",
      "source": [
        "**Data post processing**"
      ],
      "metadata": {
        "id": "188aveFGAvp3"
      }
    },
    {
      "cell_type": "markdown",
      "source": [
        "Before splitting the dataset into train and test, there are some considirations to be taken.\n",
        "\n",
        "\n",
        "---\n",
        "Frome the dataset these would be dropped:\n",
        "***Destination port***; reason no significance since services are run on any port by the host, example: ssh service can be run for any port, so port 22 attack dont necessarily have to trigger attack. \n"
      ],
      "metadata": {
        "id": "bORhjec5A2Dk"
      }
    },
    {
      "cell_type": "code",
      "source": [
        "merged.replace([np.inf, -np.inf], np.nan, inplace=True)\n",
        "merged[merged.columns[merged.isna().any()]].columns"
      ],
      "metadata": {
        "id": "g0hPUy4DN6yS",
        "colab": {
          "base_uri": "https://localhost:8080/"
        },
        "outputId": "9ca8cd71-c43a-440f-a20d-884e608081b3"
      },
      "execution_count": null,
      "outputs": [
        {
          "output_type": "execute_result",
          "data": {
            "text/plain": [
              "Index(['Flow Bytes/s', ' Flow Packets/s'], dtype='object')"
            ]
          },
          "metadata": {},
          "execution_count": 10
        }
      ]
    },
    {
      "cell_type": "code",
      "source": [
        "merged[merged.columns[merged.isnull().any()]].columns\n"
      ],
      "metadata": {
        "colab": {
          "base_uri": "https://localhost:8080/"
        },
        "id": "YwO3UPVPFciF",
        "outputId": "83326c99-25c9-4bd4-f938-219dd88ca4dc"
      },
      "execution_count": null,
      "outputs": [
        {
          "output_type": "execute_result",
          "data": {
            "text/plain": [
              "Index(['Flow Bytes/s', ' Flow Packets/s'], dtype='object')"
            ]
          },
          "metadata": {},
          "execution_count": 11
        }
      ]
    },
    {
      "cell_type": "markdown",
      "source": [
        "From above we can see ['Flow Bytes/s', ' Flow Packets/s'] have nan or null or infinite vaues, we proceed cleaning by dropping these columns too. Further in the dataset ' Fwd Header Length.1' is redundent with the ' Fwd Header Length' column. "
      ],
      "metadata": {
        "id": "q8oTawNmGg4O"
      }
    },
    {
      "cell_type": "markdown",
      "source": [
        "Dropping columns from the dataset and separating X and Y as input matrix and target vector and further denoting Benign as 1 and Anomalous as -1 we obtain as following"
      ],
      "metadata": {
        "id": "6ulbNNbXHJ-B"
      }
    },
    {
      "cell_type": "code",
      "source": [
        "merged.drop([' Destination Port','Flow Bytes/s',' Flow Packets/s',' Fwd Header Length.1'],inplace=True,axis=1)\n",
        "merged.columns = ['Flow Duration', 'Tot Fwd Pkts', 'Tot Bwd Pkts', 'TotLen Fwd Pkts',\n",
        "       'TotLen Bwd Pkts', 'Fwd Pkt Len Max', 'Fwd Pkt Len Min',\n",
        "       'Fwd Pkt Len Mean', 'Fwd Pkt Len Std', 'Bwd Pkt Len Max',\n",
        "       'Bwd Pkt Len Min', 'Bwd Pkt Len Mean', 'Bwd Pkt Len Std',\n",
        "       'Flow IAT Mean', 'Flow IAT Std', 'Flow IAT Max', 'Flow IAT Min',\n",
        "       'Fwd IAT Tot', 'Fwd IAT Mean', 'Fwd IAT Std', 'Fwd IAT Max',\n",
        "       'Fwd IAT Min', 'Bwd IAT Tot', 'Bwd IAT Mean', 'Bwd IAT Std',\n",
        "       'Bwd IAT Max', 'Bwd IAT Min', 'Fwd PSH Flags', 'Bwd PSH Flags',\n",
        "       'Fwd URG Flags', 'Bwd URG Flags', 'Fwd Header Len', 'Bwd Header Len',\n",
        "       'Fwd Pkts/s', 'Bwd Pkts/s', 'Pkt Len Min', 'Pkt Len Max',\n",
        "       'Pkt Len Mean', 'Pkt Len Std', 'Pkt Len Var', 'FIN Flag Cnt',\n",
        "       'SYN Flag Cnt', 'RST Flag Cnt', 'PSH Flag Cnt', 'ACK Flag Cnt',\n",
        "       'URG Flag Cnt', 'CWE Flag Count', 'ECE Flag Cnt', 'Down/Up Ratio',\n",
        "       'Pkt Size Avg', 'Fwd Seg Size Avg', 'Bwd Seg Size Avg',\n",
        "       'Fwd Byts/b Avg', 'Fwd Pkts/b Avg', 'Fwd Blk Rate Avg',\n",
        "       'Bwd Byts/b Avg', 'Bwd Pkts/b Avg', 'Bwd Blk Rate Avg',\n",
        "       'Subflow Fwd Pkts', 'Subflow Fwd Byts', 'Subflow Bwd Pkts',\n",
        "       'Subflow Bwd Byts', 'Init Fwd Win Byts', 'Init Bwd Win Byts',\n",
        "       'Fwd Act Data Pkts', 'Fwd Seg Size Min', 'Active Mean', 'Active Std',\n",
        "       'Active Max', 'Active Min', 'Idle Mean', 'Idle Std', 'Idle Max',\n",
        "       'Idle Min', 'Label']\n",
        "X = merged.drop(['Label'],axis=1)\n",
        "merged[merged['Label'] != 'BENIGN']= -1\n",
        "merged[merged['Label'] != -1]= 1\n",
        "y = merged['Label'].copy()"
      ],
      "metadata": {
        "id": "2WrCM7rHF7S3"
      },
      "execution_count": null,
      "outputs": []
    },
    {
      "cell_type": "markdown",
      "source": [
        "**Training Phase**\n",
        "\n",
        "Since the dataset is quite large it will be irrelavant to train with all about 28 lakh of data. So, for splitting into train test, we take about only 10 percent of it and rest for testing. We use stratify to maintain the propotion of binary class for now."
      ],
      "metadata": {
        "id": "p4O4k33tFIdO"
      }
    },
    {
      "cell_type": "code",
      "source": [
        "from sklearn.model_selection import train_test_split\n",
        "X_train, X_test, Y_train, Y_test = train_test_split(X,y,stratify=y,train_size=0.10)"
      ],
      "metadata": {
        "id": "zqp_UwXVaK-A"
      },
      "execution_count": null,
      "outputs": []
    },
    {
      "cell_type": "code",
      "source": [
        "print(\"X_train.shape\",X_train.shape)\n",
        "print(\"X_test.shape\",X_test.shape)"
      ],
      "metadata": {
        "colab": {
          "base_uri": "https://localhost:8080/"
        },
        "id": "vP87-CstdJMN",
        "outputId": "95644f83-bbbf-4c25-83c6-4191a1faf04f"
      },
      "execution_count": null,
      "outputs": [
        {
          "output_type": "stream",
          "name": "stdout",
          "text": [
            "X_train.shape (206167, 74)\n",
            "X_test.shape (1855504, 74)\n"
          ]
        }
      ]
    },
    {
      "cell_type": "markdown",
      "source": [
        "**Dimentionality Reduction with PCA**\n",
        "\n",
        "Before applying Principal Component Analysis, we need to scale the input matrix.\n",
        "We do that by using standar scaler. refer to:https://scikit-learn.org/stable/modules/generated/sklearn.preprocessing.StandardScaler.html\n",
        "\n",
        "\n",
        "As refering to '' paper, \n",
        "we try to reduce 74 features into 10 principal components."
      ],
      "metadata": {
        "id": "KhbZTjd0ImL6"
      }
    },
    {
      "cell_type": "code",
      "source": [
        "from sklearn.decomposition import PCA\n",
        "from sklearn.preprocessing import StandardScaler\n",
        "\n",
        "\n",
        "ss = StandardScaler()\n",
        "X_Scale = ss.fit_transform(X_train.values)\n",
        "print(\"X_scale shape:\",X_Scale.shape)\n",
        "dump(ss, 'bscaler.joblib') \n",
        "\n",
        "\n",
        "pca = PCA(n_components=10)\n",
        "principal_components = pca.fit_transform(X_Scale)\n",
        "print(\"X_pca shape:\",principal_components.shape)\n",
        "dump(pca, 'bpca.joblib') \n"
      ],
      "metadata": {
        "colab": {
          "base_uri": "https://localhost:8080/"
        },
        "id": "lW7hhuKsPHdh",
        "outputId": "eba2906c-a1f1-4756-8145-d20ad654aab9"
      },
      "execution_count": null,
      "outputs": [
        {
          "output_type": "stream",
          "name": "stdout",
          "text": [
            "X_scale shape: (206167, 74)\n",
            "X_pca shape: (206167, 10)\n"
          ]
        },
        {
          "output_type": "execute_result",
          "data": {
            "text/plain": [
              "['bpca.joblib']"
            ]
          },
          "metadata": {},
          "execution_count": 15
        }
      ]
    },
    {
      "cell_type": "code",
      "source": [
        "pca.explained_variance_ratio_"
      ],
      "metadata": {
        "colab": {
          "base_uri": "https://localhost:8080/"
        },
        "id": "VvizRFqrhmwi",
        "outputId": "9ef5fb71-1704-4041-8569-6de73e549eb2"
      },
      "execution_count": null,
      "outputs": [
        {
          "output_type": "execute_result",
          "data": {
            "text/plain": [
              "array([0.23039487, 0.12837396, 0.08930151, 0.06637221, 0.04699107,\n",
              "       0.0427319 , 0.03714985, 0.03444416, 0.03039402, 0.03026684])"
            ]
          },
          "metadata": {},
          "execution_count": 16
        }
      ]
    },
    {
      "cell_type": "markdown",
      "source": [
        "Still the training data is imbalanced as nearly on a 80:20 ratio\n",
        "we apply SMOTE to balance the training dataset by increasing the number of minor class data by over sampling.\n",
        "\n",
        "Refer to: https://imbalanced-learn.org/stable/references/generated/imblearn.over_sampling.SMOTE.html"
      ],
      "metadata": {
        "id": "Kxz0JDtlJkIK"
      }
    },
    {
      "cell_type": "code",
      "source": [
        "from imblearn.over_sampling import SMOTE\n",
        "\n",
        "sm = SMOTE(random_state=2)\n",
        "X,Y = sm.fit_resample(principal_components,Y_train.values.astype('int'))\n",
        "\n",
        "print(X.shape)\n",
        "print(y.shape)"
      ],
      "metadata": {
        "id": "dt8c8LHBuy1H",
        "colab": {
          "base_uri": "https://localhost:8080/"
        },
        "outputId": "1518aa28-ef71-422a-ccc6-8a993f02b6a1"
      },
      "execution_count": null,
      "outputs": [
        {
          "output_type": "stream",
          "name": "stdout",
          "text": [
            "(327172, 10)\n",
            "(2061671,)\n"
          ]
        }
      ]
    },
    {
      "cell_type": "markdown",
      "source": [
        "**Training with Random Forest classifier**\n",
        "\n",
        "Refer to: https://scikit-learn.org/stable/modules/generated/sklearn.ensemble.RandomForestClassifier.html\n",
        "\n",
        "\n",
        "Here, random forest an ensemble technique is used to train a model.\n",
        "The forest keeps on splitting until pure leaves are found.\n",
        "Here, total ensemblers used are 100, with random state =10."
      ],
      "metadata": {
        "id": "ZWhp9XvoKpyu"
      }
    },
    {
      "cell_type": "code",
      "source": [
        "from sklearn.ensemble import RandomForestClassifier\n",
        "clf = RandomForestClassifier(random_state=10,n_jobs=-1)\n",
        "clf.fit(X,Y)"
      ],
      "metadata": {
        "id": "HP5vGoZEiATO",
        "colab": {
          "base_uri": "https://localhost:8080/"
        },
        "outputId": "cfdd5b2c-b4af-4f82-fe7c-cdd74aabc529"
      },
      "execution_count": null,
      "outputs": [
        {
          "output_type": "execute_result",
          "data": {
            "text/plain": [
              "RandomForestClassifier(n_jobs=-1, random_state=10)"
            ]
          },
          "metadata": {},
          "execution_count": 18
        }
      ]
    },
    {
      "cell_type": "code",
      "source": [
        "dump(clf, 'binary.joblib') "
      ],
      "metadata": {
        "id": "dMYYFP9OWJ21",
        "colab": {
          "base_uri": "https://localhost:8080/"
        },
        "outputId": "6dc04067-c257-4931-b533-641846448e33"
      },
      "execution_count": null,
      "outputs": [
        {
          "output_type": "execute_result",
          "data": {
            "text/plain": [
              "['binary.joblib']"
            ]
          },
          "metadata": {},
          "execution_count": 19
        }
      ]
    },
    {
      "cell_type": "code",
      "source": [
        "Y_predicted = clf.predict(pca.transform(ss.transform(X_test.values)))"
      ],
      "metadata": {
        "id": "KRwiT8MPOCs_"
      },
      "execution_count": null,
      "outputs": []
    },
    {
      "cell_type": "markdown",
      "source": [
        "**Verifying**"
      ],
      "metadata": {
        "id": "Ms_mb5oZPle0"
      }
    },
    {
      "cell_type": "code",
      "source": [
        "def test_performance(y_actual,y_predicted):\n",
        "    from sklearn.metrics import f1_score\n",
        "    from sklearn.metrics import confusion_matrix,ConfusionMatrixDisplay\n",
        "    from sklearn.metrics import precision_recall_curve, precision_score\n",
        "    from sklearn.metrics import recall_score\n",
        "    from sklearn.metrics import average_precision_score\n",
        "\n",
        "\n",
        "    score = f1_score(y_actual,y_predicted,average='micro')\n",
        "    print('F1 Score: %.3f' % score)\n",
        "\n",
        "    cmatrix = confusion_matrix(y_actual,y_predicted,labels=[1,-1])\n",
        "    cm_obj = ConfusionMatrixDisplay(cmatrix,display_labels=[1,-1])\n",
        "    cm_obj.plot()\n",
        "    cm_obj.ax_.set(\n",
        "                    title='Sklearn Confusion Matrix with labels!!', \n",
        "                    xlabel='Predicted Class', \n",
        "                    ylabel='True Class')\n",
        "\n",
        "\n",
        "\n",
        "    print('Precison',precision_score(y_actual, y_predicted, average='macro'))\n",
        "    print('Recall',recall_score(y_actual, y_predicted, average='macro'))\n",
        "    print('Misclassification',(cmatrix[0][1]+cmatrix[1][0])/(cmatrix[0][0]+cmatrix[0][1]+cmatrix[1][0]+cmatrix[1][1]))\n",
        "    print('\\n')\n",
        "    print('Accuracy',(cmatrix[0][0]+cmatrix[1][1])/(cmatrix[0][0]+cmatrix[0][1]+cmatrix[1][0]+cmatrix[1][1]))\n",
        "    print('FPR(A classicifed as B)',(cmatrix[1][0])/(cmatrix[1][0]+cmatrix[1][1]))\n"
      ],
      "metadata": {
        "id": "5U6ZNn74kI8m"
      },
      "execution_count": null,
      "outputs": []
    },
    {
      "cell_type": "code",
      "source": [
        "test_performance(y_actual=Y_test.astype('int'),y_predicted=Y_predicted)"
      ],
      "metadata": {
        "colab": {
          "base_uri": "https://localhost:8080/",
          "height": 434
        },
        "id": "hoyL7H2JO0YG",
        "outputId": "74e83d66-6f87-4e89-88d0-9fb925971dc7"
      },
      "execution_count": null,
      "outputs": [
        {
          "output_type": "stream",
          "name": "stdout",
          "text": [
            "F1 Score: 0.988\n",
            "Precison 0.9908241098234489\n",
            "Recall 0.972482371572164\n",
            "Misclassification 0.012019375867688779\n",
            "\n",
            "\n",
            "Accuracy 0.9879806241323112\n",
            "FPR(A classicifed as B) 0.05392337218738665\n"
          ]
        },
        {
          "output_type": "display_data",
          "data": {
            "image/png": "[encoded data removed]",
            "text/plain": [
              "<Figure size 432x288 with 2 Axes>"
            ]
          },
          "metadata": {
            "needs_background": "light"
          }
        }
      ]
    },
    {
      "cell_type": "markdown",
      "source": [
        "**Verifying with new_test**"
      ],
      "metadata": {
        "id": "pyb8bk8uPrk0"
      }
    },
    {
      "cell_type": "code",
      "source": [
        "new_test.drop([' Destination Port','Flow Bytes/s',' Flow Packets/s',' Fwd Header Length.1'],inplace=True,axis=1)\n",
        "new_test.columns = ['Flow Duration', 'Tot Fwd Pkts', 'Tot Bwd Pkts', 'TotLen Fwd Pkts',\n",
        "       'TotLen Bwd Pkts', 'Fwd Pkt Len Max', 'Fwd Pkt Len Min',\n",
        "       'Fwd Pkt Len Mean', 'Fwd Pkt Len Std', 'Bwd Pkt Len Max',\n",
        "       'Bwd Pkt Len Min', 'Bwd Pkt Len Mean', 'Bwd Pkt Len Std',\n",
        "       'Flow IAT Mean', 'Flow IAT Std', 'Flow IAT Max', 'Flow IAT Min',\n",
        "       'Fwd IAT Tot', 'Fwd IAT Mean', 'Fwd IAT Std', 'Fwd IAT Max',\n",
        "       'Fwd IAT Min', 'Bwd IAT Tot', 'Bwd IAT Mean', 'Bwd IAT Std',\n",
        "       'Bwd IAT Max', 'Bwd IAT Min', 'Fwd PSH Flags', 'Bwd PSH Flags',\n",
        "       'Fwd URG Flags', 'Bwd URG Flags', 'Fwd Header Len', 'Bwd Header Len',\n",
        "       'Fwd Pkts/s', 'Bwd Pkts/s', 'Pkt Len Min', 'Pkt Len Max',\n",
        "       'Pkt Len Mean', 'Pkt Len Std', 'Pkt Len Var', 'FIN Flag Cnt',\n",
        "       'SYN Flag Cnt', 'RST Flag Cnt', 'PSH Flag Cnt', 'ACK Flag Cnt',\n",
        "       'URG Flag Cnt', 'CWE Flag Count', 'ECE Flag Cnt', 'Down/Up Ratio',\n",
        "       'Pkt Size Avg', 'Fwd Seg Size Avg', 'Bwd Seg Size Avg',\n",
        "       'Fwd Byts/b Avg', 'Fwd Pkts/b Avg', 'Fwd Blk Rate Avg',\n",
        "       'Bwd Byts/b Avg', 'Bwd Pkts/b Avg', 'Bwd Blk Rate Avg',\n",
        "       'Subflow Fwd Pkts', 'Subflow Fwd Byts', 'Subflow Bwd Pkts',\n",
        "       'Subflow Bwd Byts', 'Init Fwd Win Byts', 'Init Bwd Win Byts',\n",
        "       'Fwd Act Data Pkts', 'Fwd Seg Size Min', 'Active Mean', 'Active Std',\n",
        "       'Active Max', 'Active Min', 'Idle Mean', 'Idle Std', 'Idle Max',\n",
        "       'Idle Min', 'Label']\n",
        "xx = new_test.drop(['Label'],axis=1).drop_duplicates()\n",
        "xx = pca.transform(ss.transform(xx.values))\n",
        "p = clf.predict(xx)\n",
        "np.unique(p,return_counts=True) \n"
      ],
      "metadata": {
        "colab": {
          "base_uri": "https://localhost:8080/"
        },
        "id": "QnsDUfQYwea6",
        "outputId": "48822300-2697-4bf4-e65b-7e9bcf5b3b2c"
      },
      "execution_count": null,
      "outputs": [
        {
          "output_type": "execute_result",
          "data": {
            "text/plain": [
              "(array([-1,  1]), array([ 1, 67]))"
            ]
          },
          "metadata": {},
          "execution_count": 24
        }
      ]
    }
  ]
}