{
 "cells": [
  {
   "cell_type": "code",
   "execution_count": 1,
   "id": "0ddc4a8c",
   "metadata": {},
   "outputs": [],
   "source": [
    "import pandas as pd\n",
    "import numpy as np\n",
    "from sklearn.ensemble import RandomForestClassifier\n",
    "from joblib import dump,load\n",
    "from sklearn.decomposition import PCA\n",
    "from sklearn.preprocessing import StandardScaler"
   ]
  },
  {
   "cell_type": "code",
   "execution_count": 2,
   "id": "79f248c5",
   "metadata": {},
   "outputs": [],
   "source": [
    "datapath = './verify/'\n",
    "binary_clf_path = './classifiers/binary/'\n",
    "multi_clf_path = './classifiers/multiclass/'"
   ]
  },
  {
   "cell_type": "code",
   "execution_count": 3,
   "id": "03247f27",
   "metadata": {},
   "outputs": [],
   "source": [
    "#for binary classification\n",
    "bpca = load(f'{binary_clf_path}bpca.joblib')\n",
    "bscaler = load(f'{binary_clf_path}bscaler.joblib')\n",
    "bclf = load(f'{binary_clf_path}binary.joblib')"
   ]
  },
  {
   "cell_type": "code",
   "execution_count": 4,
   "id": "9c8c6337",
   "metadata": {},
   "outputs": [],
   "source": [
    "df = pd.DataFrame()"
   ]
  },
  {
   "cell_type": "code",
   "execution_count": 16,
   "id": "c0b0cc8a",
   "metadata": {},
   "outputs": [],
   "source": [
    "test_file = f'{datapath}bruteforce-ftp-ssh_14-02-2018.csv'\n",
    "test_dataframe = pd.read_csv(test_file)\n",
    "\n",
    "\n",
    "\n",
    "# test_dataframe.drop_duplicates(subset=['Flow ID'],inplace=True)\n",
    "# df = test_dataframe[['Src IP', 'Src Port', 'Dst IP','Dst Port','Protocol',\n",
    "#                     'Timestamp']].copy()\n",
    "# test_dataframe.drop(['Flow ID', 'Src IP', 'Src Port', 'Dst IP','Dst Port','Protocol',\n",
    "#                     'Timestamp','Flow Byts/s', 'Flow Pkts/s','Label'],inplace=True,axis=1)"
   ]
  },
  {
   "cell_type": "code",
   "execution_count": 6,
   "id": "45471bbc",
   "metadata": {
    "scrolled": false
   },
   "outputs": [
    {
     "name": "stdout",
     "output_type": "stream",
     "text": [
      "Benign            667626\n",
      "FTP-BruteForce    193360\n",
      "SSH-Bruteforce    187589\n",
      "Name: label, dtype: int64\n"
     ]
    }
   ],
   "source": [
    "# first classify with binary class for anomaly detection\n",
    "\n",
    "print(test_dataframe['label'].value_counts())\n",
    "# test_dataframe.drop(test_dataframe.loc[test_dataframe['label']=='Benign'].index,inplace=True)\n",
    "# print(test_dataframe['label'].value_counts())\n",
    "test_dataframe.drop(['dst_port','protocol','timestamp','flow_byts_s', 'flow_pkts_s'],inplace=True,axis=1)\n",
    "test_dataframe.columns = ['Flow Duration', 'Tot Fwd Pkts', 'Tot Bwd Pkts', 'TotLen Fwd Pkts',\n",
    "       'TotLen Bwd Pkts', 'Fwd Pkt Len Max', 'Fwd Pkt Len Min',\n",
    "       'Fwd Pkt Len Mean', 'Fwd Pkt Len Std', 'Bwd Pkt Len Max',\n",
    "       'Bwd Pkt Len Min', 'Bwd Pkt Len Mean', 'Bwd Pkt Len Std',\n",
    "       'Flow IAT Mean', 'Flow IAT Std', 'Flow IAT Max', 'Flow IAT Min',\n",
    "       'Fwd IAT Tot', 'Fwd IAT Mean', 'Fwd IAT Std', 'Fwd IAT Max',\n",
    "       'Fwd IAT Min', 'Bwd IAT Tot', 'Bwd IAT Mean', 'Bwd IAT Std',\n",
    "       'Bwd IAT Max', 'Bwd IAT Min', 'Fwd PSH Flags', 'Bwd PSH Flags',\n",
    "       'Fwd URG Flags', 'Bwd URG Flags', 'Fwd Header Len', 'Bwd Header Len',\n",
    "       'Fwd Pkts/s', 'Bwd Pkts/s', 'Pkt Len Min', 'Pkt Len Max',\n",
    "       'Pkt Len Mean', 'Pkt Len Std', 'Pkt Len Var', 'FIN Flag Cnt',\n",
    "       'SYN Flag Cnt', 'RST Flag Cnt', 'PSH Flag Cnt', 'ACK Flag Cnt',\n",
    "       'URG Flag Cnt', 'CWE Flag Count', 'ECE Flag Cnt', 'Down/Up Ratio',\n",
    "       'Pkt Size Avg', 'Fwd Seg Size Avg', 'Bwd Seg Size Avg',\n",
    "       'Fwd Byts/b Avg', 'Fwd Pkts/b Avg', 'Fwd Blk Rate Avg',\n",
    "       'Bwd Byts/b Avg', 'Bwd Pkts/b Avg', 'Bwd Blk Rate Avg',\n",
    "       'Subflow Fwd Pkts', 'Subflow Fwd Byts', 'Subflow Bwd Pkts',\n",
    "       'Subflow Bwd Byts', 'Init Fwd Win Byts', 'Init Bwd Win Byts',\n",
    "       'Fwd Act Data Pkts', 'Fwd Seg Size Min', 'Active Mean', 'Active Std',\n",
    "       'Active Max', 'Active Min', 'Idle Mean', 'Idle Std', 'Idle Max',\n",
    "       'Idle Min','label']\n",
    "dc = dict()\n",
    "dtypes = [\n",
    "    'int64','int64','int64','int64','int64','int64','int64',\n",
    "    'float64','float64', \n",
    "    'int64','int64',\n",
    "    'float64','float64','float64','float64',\n",
    "    'int64','int64','int64',\n",
    "    'float64','float64',\n",
    "    'int64','int64','int64',\n",
    "    'float64','float64',\n",
    "    'int64','int64','int64','int64','int64','int64','int64','int64',\n",
    "    'float64','float64',\n",
    "    'int64','int64',\n",
    "    'float64','float64','float64',\n",
    "    'int64','int64','int64','int64','int64','int64','int64','int64','int64',\n",
    "    'float64','float64','float64',\n",
    "    'int64','int64','int64','int64','int64','int64','int64','int64','int64','int64','int64','int64','int64','int64',\n",
    "    'float64','float64',\n",
    "    'int64','int64',\n",
    "    'float64','float64',\n",
    "    'int64','int64'\n",
    "]\n",
    "columns = test_dataframe.columns\n",
    "for c,d in zip(columns,dtypes):\n",
    "    dc[c]=d\n",
    "    \n",
    "    \n",
    "    \n",
    "    \n",
    "    \n",
    "\n",
    "    \n"
   ]
  },
  {
   "cell_type": "code",
   "execution_count": 8,
   "id": "a80e7c2e",
   "metadata": {},
   "outputs": [],
   "source": [
    "X = test_dataframe.drop(['label'],axis=1)\n",
    "test_dataframe[test_dataframe['label'] != 'Benign']= 0\n",
    "test_dataframe[test_dataframe['label'] != 0]= 1\n",
    "y = test_dataframe['label'].copy()"
   ]
  },
  {
   "cell_type": "code",
   "execution_count": 9,
   "id": "3a3bb6fd",
   "metadata": {},
   "outputs": [],
   "source": [
    "def test_performance(y_actual,y_predicted):\n",
    "    from sklearn.metrics import f1_score\n",
    "    from sklearn.metrics import confusion_matrix,ConfusionMatrixDisplay\n",
    "    from sklearn.metrics import precision_recall_curve, precision_score\n",
    "    from sklearn.metrics import recall_score\n",
    "    from sklearn.metrics import average_precision_score\n",
    "    from sklearn.metrics import roc_curve, auc, classification_report\n",
    "\n",
    "\n",
    "\n",
    "    score = f1_score(y_actual,y_predicted,average='micro')\n",
    "    print('F1 Score: %.3f' % score)\n",
    "\n",
    "    cmatrix = confusion_matrix(y_actual,y_predicted,labels=[1,0])\n",
    "    cm_obj = ConfusionMatrixDisplay(cmatrix,display_labels=[1,0])\n",
    "    cm_obj.plot()\n",
    "    cm_obj.ax_.set(\n",
    "                    title='Sklearn Confusion Matrix for Benign and Intrusions', \n",
    "                    xlabel='Predicted Class', \n",
    "                    ylabel='True Class')\n",
    "\n",
    "\n",
    "\n",
    "    print('Precison',precision_score(y_actual, y_predicted, average='macro'))\n",
    "    print('Recall',recall_score(y_actual, y_predicted, average='macro'))\n",
    "    print('Misclassification',(cmatrix[0][1]+cmatrix[1][0])/(cmatrix[0][0]+cmatrix[0][1]+cmatrix[1][0]+cmatrix[1][1]))\n",
    "    print('\\n')\n",
    "    print('Accuracy',(cmatrix[0][0]+cmatrix[1][1])/(cmatrix[0][0]+cmatrix[0][1]+cmatrix[1][0]+cmatrix[1][1]))\n",
    "    print('FPR(A classicifed as B)',(cmatrix[1][0])/(cmatrix[1][0]+cmatrix[1][1]))\n",
    "\n",
    "    false_positive_rate, true_positive_rate, thresholds = roc_curve(y_actual, y_predicted)\n",
    "    roc_auc = auc(false_positive_rate, true_positive_rate)\n",
    "    print('roc auc',roc_auc)\n",
    "    print(\"Classification report:\" \"\\n\",classification_report(y_actual,y_predicted))"
   ]
  },
  {
   "cell_type": "markdown",
   "id": "cd0ead35",
   "metadata": {},
   "source": [
    "predictions= bclf.predict(bpca.transform(bscaler.transform(X.astype(dc).values)))\n",
    "\n",
    "test_performance(y_actual=y.astype('int'),y_predicted=predictions)\n",
    "\n"
   ]
  },
  {
   "cell_type": "code",
   "execution_count": 13,
   "id": "3606e622",
   "metadata": {},
   "outputs": [],
   "source": [
    "#for multi binary classfication\n",
    "dos = load(f'{multi_clf_path}withpca/dos')\n",
    "ddos = load(f'{multi_clf_path}withpca/ddos')\n",
    "portscan = load(f'{multi_clf_path}withpca/portscan')\n",
    "\n",
    "\n",
    "\n",
    "dosscl = load(f'{multi_clf_path}withpca/dosscaler')\n",
    "ddosscl = load(f'{multi_clf_path}withpca/ddosscaler')\n",
    "portscanscl = load(f'{multi_clf_path}withpca/portscanscaler')\n",
    "\n",
    "\n",
    "dospca = load(f'{multi_clf_path}withpca/dospca')\n",
    "ddospca = load(f'{multi_clf_path}withpca/ddospca')\n",
    "portscanpca = load(f'{multi_clf_path}withpca/portscanpca')\n",
    "\n",
    "\n",
    "clfs = [dos,ddos,portscan]\n",
    "scls = [dosscl,ddosscl,portscanscl]\n",
    "pcas = [dospca,ddospca,portscanpca]\n",
    "attack_names = ['dos','ddos','portscan']"
   ]
  },
  {
   "cell_type": "code",
   "execution_count": 15,
   "id": "6ad5b566",
   "metadata": {
    "scrolled": true
   },
   "outputs": [
    {
     "name": "stdout",
     "output_type": "stream",
     "text": [
      "F1 Score: 0.605\n",
      "Precison 0.3123219036358262\n",
      "Recall 0.4747800415202524\n",
      "Misclassification 0.3954166368643159\n",
      "\n",
      "\n",
      "Accuracy 0.6045833631356842\n",
      "FPR(A classicifed as B) 1.0\n",
      "roc auc 0.4747800415202524\n",
      "Classification report:\n",
      "               precision    recall  f1-score   support\n",
      "\n",
      "           0       0.00      0.00      0.00    380949\n",
      "           1       0.62      0.95      0.75    667626\n",
      "\n",
      "    accuracy                           0.60   1048575\n",
      "   macro avg       0.31      0.47      0.38   1048575\n",
      "weighted avg       0.40      0.60      0.48   1048575\n",
      "\n",
      "F1 Score: 0.636\n",
      "Precison 0.31827171872137755\n",
      "Recall 0.4996652317315383\n",
      "Misclassification 0.3637279164580502\n",
      "\n",
      "\n",
      "Accuracy 0.6362720835419498\n",
      "FPR(A classicifed as B) 1.0\n",
      "roc auc 0.4996652317315383\n",
      "Classification report:\n",
      "               precision    recall  f1-score   support\n",
      "\n",
      "           0       0.00      0.00      0.00    380949\n",
      "           1       0.64      1.00      0.78    667626\n",
      "\n",
      "    accuracy                           0.64   1048575\n",
      "   macro avg       0.32      0.50      0.39   1048575\n",
      "weighted avg       0.41      0.64      0.50   1048575\n",
      "\n",
      "F1 Score: 0.819\n",
      "Precison 0.8841544677107148\n",
      "Recall 0.7521003618079558\n",
      "Misclassification 0.18106859309062298\n",
      "\n",
      "\n",
      "Accuracy 0.818931406909377\n",
      "FPR(A classicifed as B) 0.4923467445773581\n",
      "roc auc 0.7521003618079558\n",
      "Classification report:\n",
      "               precision    recall  f1-score   support\n",
      "\n",
      "           0       0.99      0.51      0.67    380949\n",
      "           1       0.78      1.00      0.88    667626\n",
      "\n",
      "    accuracy                           0.82   1048575\n",
      "   macro avg       0.88      0.75      0.77   1048575\n",
      "weighted avg       0.86      0.82      0.80   1048575\n",
      "\n"
     ]
    },
    {
     "data": {
      "image/png": "[encoded data removed]",
      "text/plain": [
       "<Figure size 432x288 with 2 Axes>"
      ]
     },
     "metadata": {
      "needs_background": "light"
     },
     "output_type": "display_data"
    },
    {
     "data": {
      "image/png": "[encoded data removed]",
      "text/plain": [
       "<Figure size 432x288 with 2 Axes>"
      ]
     },
     "metadata": {
      "needs_background": "light"
     },
     "output_type": "display_data"
    },
    {
     "data": {
      "image/png": "[encoded data removed]",
      "text/plain": [
       "<Figure size 432x288 with 2 Axes>"
      ]
     },
     "metadata": {
      "needs_background": "light"
     },
     "output_type": "display_data"
    }
   ],
   "source": [
    "for c,s,p,name in zip(clfs,scls,pcas,attack_names):\n",
    "    y_p = c.predict(p.transform(s.transform(X.astype(dc).values)))\n",
    "    test_performance(y_actual=y.astype('int'),y_predicted=y_p)\n",
    "\n",
    "    \n",
    "    "
   ]
  },
  {
   "cell_type": "code",
   "execution_count": null,
   "id": "8dd6d34b",
   "metadata": {},
   "outputs": [],
   "source": []
  }
 ],
 "metadata": {
  "kernelspec": {
   "display_name": "venv",
   "language": "python",
   "name": "venv"
  },
  "language_info": {
   "codemirror_mode": {
    "name": "ipython",
    "version": 3
   },
   "file_extension": ".py",
   "mimetype": "text/x-python",
   "name": "python",
   "nbconvert_exporter": "python",
   "pygments_lexer": "ipython3",
   "version": "3.9.9"
  }
 },
 "nbformat": 4,
 "nbformat_minor": 5
}
