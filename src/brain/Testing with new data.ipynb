{
 "cells": [
  {
   "cell_type": "code",
   "execution_count": 1,
   "id": "0ddc4a8c",
   "metadata": {},
   "outputs": [],
   "source": [
    "import pandas as pd\n",
    "import numpy as np\n",
    "from sklearn.ensemble import RandomForestClassifier\n",
    "from joblib import dump,load\n",
    "from sklearn.decomposition import PCA\n",
    "from sklearn.preprocessing import StandardScaler"
   ]
  },
  {
   "cell_type": "code",
   "execution_count": 2,
   "id": "79f248c5",
   "metadata": {},
   "outputs": [],
   "source": [
    "datapath = './verify/'\n",
    "binary_clf_path = './classifiers/binary/'\n",
    "multi_clf_path = './classifiers/multiclass/'"
   ]
  },
  {
   "cell_type": "code",
   "execution_count": 3,
   "id": "03247f27",
   "metadata": {},
   "outputs": [],
   "source": [
    "#for binary classification\n",
    "bpca = load(f'{binary_clf_path}bpca.joblib')\n",
    "bscaler = load(f'{binary_clf_path}bscaler.joblib')\n",
    "bclf = load(f'{binary_clf_path}binary.joblib')"
   ]
  },
  {
   "cell_type": "code",
   "execution_count": 4,
   "id": "a5eea821",
   "metadata": {},
   "outputs": [],
   "source": [
    "#for multi binary classfication\n",
    "dos = load(f'{multi_clf_path}dos')\n",
    "ddos = load(f'{multi_clf_path}ddos')\n",
    "portscan = load(f'{multi_clf_path}portscan')\n",
    "patator = load(f'{multi_clf_path}patator')\n",
    "web = load(f'{multi_clf_path}web')\n",
    "\n",
    "clfs = [dos,ddos,portscan,patator,web]"
   ]
  },
  {
   "cell_type": "code",
   "execution_count": 5,
   "id": "9a2307c9",
   "metadata": {},
   "outputs": [],
   "source": [
    "features = {\n",
    "    'dos_feature':[ 'Bwd Pkts/s', 'Pkt Len Min', 'Bwd Pkt Len Std', 'FIN Flag Cnt',\n",
    "                    'Fwd IAT Mean', 'Init Fwd Win Byts', 'Fwd Pkt Len Max', 'Fwd PSH Flags',\n",
    "                    'SYN Flag Cnt', 'Fwd IAT Min', 'Init Bwd Win Byts', 'Flow IAT Min',\n",
    "                    'Pkt Size Avg', 'Fwd Seg Size Min', 'Fwd Header Len'],\n",
    "    'ddos_feature':[ \"Fwd Pkt Len Max\",\"Subflow Fwd Byts\",\"TotLen Fwd Pkts\"],\n",
    "    'portscan_feature':[ 'Subflow Fwd Byts','TotLen Fwd Pkts','Fwd Pkt Len Max','Pkt Size Avg'],\n",
    "    'patator_feature':[ \"Init Fwd Win Byts\", \"Fwd Seg Size Min\", \"Pkt Len Std\",\n",
    "                         \"Init Bwd Win Byts\",\"Flow IAT Min\",\"Pkt Size Avg\"],\n",
    "    'web_feature':[ \"Init Bwd Win Byts\",\"Fwd Seg Size Min\",\"Init Fwd Win Byts\",\n",
    "                      \"Bwd Pkt Len Std\",\"Fwd IAT Min\"]\n",
    "}"
   ]
  },
  {
   "cell_type": "code",
   "execution_count": 28,
   "id": "c0b0cc8a",
   "metadata": {},
   "outputs": [],
   "source": [
    "test_file = f'{datapath}mine/normal.pcap_Flow.csv'\n"
   ]
  },
  {
   "cell_type": "code",
   "execution_count": 31,
   "id": "45471bbc",
   "metadata": {},
   "outputs": [
    {
     "name": "stdout",
     "output_type": "stream",
     "text": [
      "Benign/anomaly ->>> (array([1]), array([22]))\n",
      "dos ->>> (array([1]), array([22]))\n",
      "ddos ->>> (array([1]), array([22]))\n",
      "portscan ->>> (array([1]), array([22]))\n",
      "patator ->>> (array([1]), array([22]))\n",
      "web ->>> (array([1]), array([22]))\n"
     ]
    }
   ],
   "source": [
    "# first classify with binary class for anomaly detection\n",
    "test_dataframe = pd.read_csv(test_file)\n",
    "# print(test_dataframe['label'].value_counts())\n",
    "test_dataframe.drop_duplicates(subset=['Flow ID'])\n",
    "test_dataframe.drop(['Flow ID', 'Src IP', 'Src Port', 'Dst IP','Dst Port','Protocol',\n",
    "                    'Timestamp','Flow Byts/s', 'Flow Pkts/s','Label'],inplace=True,axis=1)\n",
    "# test_dataframe.drop(['dst_port','protocol','timestamp','flow_byts_s', 'flow_pkts_s','label'],inplace=True,axis=1)\n",
    "# test_dataframe.columns = ['Flow Duration', 'Tot Fwd Pkts', 'Tot Bwd Pkts', 'TotLen Fwd Pkts',\n",
    "#        'TotLen Bwd Pkts', 'Fwd Pkt Len Max', 'Fwd Pkt Len Min',\n",
    "#        'Fwd Pkt Len Mean', 'Fwd Pkt Len Std', 'Bwd Pkt Len Max',\n",
    "#        'Bwd Pkt Len Min', 'Bwd Pkt Len Mean', 'Bwd Pkt Len Std',\n",
    "#        'Flow IAT Mean', 'Flow IAT Std', 'Flow IAT Max', 'Flow IAT Min',\n",
    "#        'Fwd IAT Tot', 'Fwd IAT Mean', 'Fwd IAT Std', 'Fwd IAT Max',\n",
    "#        'Fwd IAT Min', 'Bwd IAT Tot', 'Bwd IAT Mean', 'Bwd IAT Std',\n",
    "#        'Bwd IAT Max', 'Bwd IAT Min', 'Fwd PSH Flags', 'Bwd PSH Flags',\n",
    "#        'Fwd URG Flags', 'Bwd URG Flags', 'Fwd Header Len', 'Bwd Header Len',\n",
    "#        'Fwd Pkts/s', 'Bwd Pkts/s', 'Pkt Len Min', 'Pkt Len Max',\n",
    "#        'Pkt Len Mean', 'Pkt Len Std', 'Pkt Len Var', 'FIN Flag Cnt',\n",
    "#        'SYN Flag Cnt', 'RST Flag Cnt', 'PSH Flag Cnt', 'ACK Flag Cnt',\n",
    "#        'URG Flag Cnt', 'CWE Flag Count', 'ECE Flag Cnt', 'Down/Up Ratio',\n",
    "#        'Pkt Size Avg', 'Fwd Seg Size Avg', 'Bwd Seg Size Avg',\n",
    "#        'Fwd Byts/b Avg', 'Fwd Pkts/b Avg', 'Fwd Blk Rate Avg',\n",
    "#        'Bwd Byts/b Avg', 'Bwd Pkts/b Avg', 'Bwd Blk Rate Avg',\n",
    "#        'Subflow Fwd Pkts', 'Subflow Fwd Byts', 'Subflow Bwd Pkts',\n",
    "#        'Subflow Bwd Byts', 'Init Fwd Win Byts', 'Init Bwd Win Byts',\n",
    "#        'Fwd Act Data Pkts', 'Fwd Seg Size Min', 'Active Mean', 'Active Std',\n",
    "#        'Active Max', 'Active Min', 'Idle Mean', 'Idle Std', 'Idle Max',\n",
    "#        'Idle Min']\n",
    "predictions= bclf.predict(bpca.transform(bscaler.transform(test_dataframe.values)))\n",
    "print(f'Benign/anomaly ->>> {np.unique(predictions,return_counts=True)}')\n",
    "\n",
    "for clf_feature,clf in zip(features,clfs):\n",
    "    y_p = clf.predict(test_dataframe[features[clf_feature]].values)\n",
    "    print(f'{clf_feature.replace(\"_feature\",\"\")} ->>> {(np.unique(y_p,return_counts=True))}')"
   ]
  },
  {
   "cell_type": "code",
   "execution_count": null,
   "id": "7affc98b",
   "metadata": {},
   "outputs": [],
   "source": []
  }
 ],
 "metadata": {
  "kernelspec": {
   "display_name": "venv",
   "language": "python",
   "name": "venv"
  },
  "language_info": {
   "codemirror_mode": {
    "name": "ipython",
    "version": 3
   },
   "file_extension": ".py",
   "mimetype": "text/x-python",
   "name": "python",
   "nbconvert_exporter": "python",
   "pygments_lexer": "ipython3",
   "version": "3.9.9"
  }
 },
 "nbformat": 4,
 "nbformat_minor": 5
}
